{
 "cells": [
  {
   "cell_type": "code",
   "execution_count": 46,
   "metadata": {},
   "outputs": [],
   "source": [
    "# added this to get tab-complete working on theta\n",
    "%config Completer.use_jedi = False\n",
    "import os,sys,json\n",
    "import numpy as np\n",
    "import pandas as pd\n",
    "import matplotlib.pyplot as plt\n",
    "import multiprocessing as mp"
   ]
  },
  {
   "cell_type": "code",
   "execution_count": 210,
   "metadata": {},
   "outputs": [],
   "source": [
    "base_path = '/lus/theta-fs0/logs/pythonlogging/module_usage/'\n",
    "check_for_modules = ['tensorflow','torch','horovod','pandas','matplotlib','h5py','sklearn','numpy','scipy','balsam']"
   ]
  },
  {
   "cell_type": "code",
   "execution_count": 240,
   "metadata": {},
   "outputs": [],
   "source": [
    "def commonize_source(source):\n",
    "    try:\n",
    "        if source.startswith('/soft/'):\n",
    "            source = source.replace('/soft/','/lus/theta-fs0/software/')\n",
    "        elif source.startswith('/projects/'):\n",
    "            source = source.replace('/projects/','/lus/theta-fs0/projects/')\n",
    "        elif source.startswith('/home/'):\n",
    "            source = source.replace('/home/','/gpfs/mira-home/')\n",
    "        \n",
    "        if source.endswith('python3.8'):\n",
    "            source = source.replace('python3.8','python')\n",
    "        elif source.endswith('python3.7'):\n",
    "            source = source.replace('python3.7','python')\n",
    "        elif source.endswith('python3'):\n",
    "            source = source.replace('python3','python')\n",
    "        return source\n",
    "    except:\n",
    "        return ''\n",
    "\n",
    "def parse_datafile(filename):\n",
    "    try:\n",
    "        data = json.load(open(filename))\n",
    "    except:\n",
    "        print(f'failed to parse filename: {filename}')\n",
    "        return {}\n",
    "    #print(json.dumps(data,indent=4, sort_keys=True))\n",
    "\n",
    "    output_data = {}\n",
    "    output_data['hostname'] = data['hostname']\n",
    "    output_data['hpcname'] = 'NA'\n",
    "    output_data['thetaknl'] = 0\n",
    "    if 'nid' in data['hostname']:\n",
    "        output_data['thetaknl'] = 1\n",
    "    output_data['thetagpu'] = 0\n",
    "    if 'thetagpu' in data['hostname']:\n",
    "        output_data['thetagpu'] = 1\n",
    "    output_data['cooley'] = 0\n",
    "    if 'cooley' in data['hostname']:\n",
    "        output_data['cooley'] = 1\n",
    "    output_data['filename'] = filename\n",
    "    output_data['source'] = commonize_source(data['sys.executable'])\n",
    "    output_data['timestamp'] = pd.Timestamp(data['timestamp'])\n",
    "    modules = []\n",
    "    for module in data['modules'].keys():\n",
    "        module = module.split('.')[0]\n",
    "        if module not in modules:\n",
    "            modules.append(module)\n",
    "\n",
    "    for key in check_for_modules:\n",
    "        output_data[key] = 0\n",
    "        if key in modules:\n",
    "            output_data[key] = 1\n",
    "    \n",
    "    return output_data\n",
    "\n",
    "\n",
    "def get_file_list(path,years=[],months=[],days=[]):\n",
    "    filelist = []\n",
    "    for root, dirs, files in os.walk(path):\n",
    "        \n",
    "        rr = root.replace(path,'')\n",
    "        rr = rr.split('/')\n",
    "        if len(rr) == 3:\n",
    "            year = int(rr[0])\n",
    "            month = int(rr[1])\n",
    "            day = int(rr[2])\n",
    "            if(((len(years) > 0 and year in years) or len(years) == 0) and \n",
    "               ((len(months) > 0 and month in months) or len(months) == 0) and\n",
    "               ((len(days) > 0 and day in days) or len(days) == 0)):\n",
    "                print(year,month,day)\n",
    "                print(root,len(dirs),len(files))\n",
    "                for file in files:\n",
    "                    \n",
    "                    filename = os.path.join(root,file)\n",
    "                    if os.stat(filename).st_size == 0:\n",
    "                        continue\n",
    "                    \n",
    "                    filelist.append(filename)\n",
    "    return filelist\n",
    "\n",
    "dataset = pd.DataFrame()\n",
    "def append(output):\n",
    "    global dataset\n",
    "    if len(output) > 0:\n",
    "        dataset = dataset.append(output,ignore_index=True)\n",
    "\n",
    "gsource_map = {}\n",
    "def get_source_id(dataset):\n",
    "    global gsource_map\n",
    "    unique_source = list(set(dataset['source'].to_list()))\n",
    "    gsource_map = { unique_source[i]:i for i in range(len(unique_source))}\n",
    "    return dataset['source'].replace(gsource_map)\n",
    "\n",
    "def build_dataset(path,nprocs,years=[],months=[],days=[]):\n",
    "    global dataset\n",
    "    dataset = pd.DataFrame()\n",
    "    filelist = get_file_list(path,years,months,days)\n",
    "    print(f'{len(filelist)} files')\n",
    "    with mp.Pool(processes=nprocs) as pool:\n",
    "        r = pool.map_async(parse_datafile,filelist,callback=append)\n",
    "        r.wait()\n",
    "    dataset['source_id'] = get_source_id(dataset)\n",
    "    return dataset\n"
   ]
  },
  {
   "cell_type": "code",
   "execution_count": 249,
   "metadata": {
    "scrolled": true
   },
   "outputs": [
    {
     "name": "stdout",
     "output_type": "stream",
     "text": [
      "2020 12 20\n",
      "/lus/theta-fs0/logs/pythonlogging/module_usage/2020/12/20 0 557\n",
      "2020 12 12\n",
      "/lus/theta-fs0/logs/pythonlogging/module_usage/2020/12/12 0 172\n",
      "2020 12 28\n",
      "/lus/theta-fs0/logs/pythonlogging/module_usage/2020/12/28 0 0\n",
      "2020 12 18\n",
      "/lus/theta-fs0/logs/pythonlogging/module_usage/2020/12/18 0 1571\n",
      "2020 12 9\n",
      "/lus/theta-fs0/logs/pythonlogging/module_usage/2020/12/09 0 10123\n",
      "2020 12 14\n",
      "/lus/theta-fs0/logs/pythonlogging/module_usage/2020/12/14 0 160\n",
      "2020 12 13\n",
      "/lus/theta-fs0/logs/pythonlogging/module_usage/2020/12/13 0 113\n",
      "2020 12 19\n",
      "/lus/theta-fs0/logs/pythonlogging/module_usage/2020/12/19 0 324\n",
      "2020 12 29\n",
      "/lus/theta-fs0/logs/pythonlogging/module_usage/2020/12/29 0 0\n",
      "2020 12 23\n",
      "/lus/theta-fs0/logs/pythonlogging/module_usage/2020/12/23 0 0\n",
      "2020 12 25\n",
      "/lus/theta-fs0/logs/pythonlogging/module_usage/2020/12/25 0 0\n",
      "2020 12 31\n",
      "/lus/theta-fs0/logs/pythonlogging/module_usage/2020/12/31 0 0\n",
      "2020 12 6\n",
      "/lus/theta-fs0/logs/pythonlogging/module_usage/2020/12/06 0 477\n",
      "2020 12 8\n",
      "/lus/theta-fs0/logs/pythonlogging/module_usage/2020/12/08 0 2530\n",
      "2020 12 7\n",
      "/lus/theta-fs0/logs/pythonlogging/module_usage/2020/12/07 0 223\n",
      "2020 12 11\n",
      "/lus/theta-fs0/logs/pythonlogging/module_usage/2020/12/11 0 8511\n",
      "2020 12 30\n",
      "/lus/theta-fs0/logs/pythonlogging/module_usage/2020/12/30 0 0\n",
      "2020 12 15\n",
      "/lus/theta-fs0/logs/pythonlogging/module_usage/2020/12/15 0 17660\n",
      "2020 12 21\n",
      "/lus/theta-fs0/logs/pythonlogging/module_usage/2020/12/21 0 675864\n",
      "2020 12 26\n",
      "/lus/theta-fs0/logs/pythonlogging/module_usage/2020/12/26 0 0\n",
      "2020 12 16\n",
      "/lus/theta-fs0/logs/pythonlogging/module_usage/2020/12/16 0 2214\n",
      "2020 12 10\n",
      "/lus/theta-fs0/logs/pythonlogging/module_usage/2020/12/10 0 9582\n",
      "2020 12 2\n",
      "/lus/theta-fs0/logs/pythonlogging/module_usage/2020/12/02 0 25527\n",
      "2020 12 24\n",
      "/lus/theta-fs0/logs/pythonlogging/module_usage/2020/12/24 0 0\n",
      "2020 12 4\n",
      "/lus/theta-fs0/logs/pythonlogging/module_usage/2020/12/04 0 17664\n",
      "2020 12 3\n",
      "/lus/theta-fs0/logs/pythonlogging/module_usage/2020/12/03 0 172415\n",
      "2020 12 1\n",
      "/lus/theta-fs0/logs/pythonlogging/module_usage/2020/12/01 0 3035\n",
      "2020 12 22\n",
      "/lus/theta-fs0/logs/pythonlogging/module_usage/2020/12/22 0 342\n",
      "2020 12 5\n",
      "/lus/theta-fs0/logs/pythonlogging/module_usage/2020/12/05 0 700\n",
      "2020 12 27\n",
      "/lus/theta-fs0/logs/pythonlogging/module_usage/2020/12/27 0 0\n",
      "2020 12 17\n",
      "/lus/theta-fs0/logs/pythonlogging/module_usage/2020/12/17 0 1051\n",
      "950763 files\n",
      "failed to parse filename: /lus/theta-fs0/logs/pythonlogging/module_usage/2020/12/17/thetalogin1.31691.23.12.23.585346\n",
      "failed to parse filename: /lus/theta-fs0/logs/pythonlogging/module_usage/2020/12/17/thetalogin1.31772.23.12.23.846291\n"
     ]
    }
   ],
   "source": [
    "ds = build_dataset(base_path,128,years=[2020],months=[12],days=[])"
   ]
  },
  {
   "cell_type": "code",
   "execution_count": 250,
   "metadata": {},
   "outputs": [],
   "source": [
    "ds.to_csv('pysnooper_dataset_dec.csv')"
   ]
  },
  {
   "cell_type": "code",
   "execution_count": 327,
   "metadata": {},
   "outputs": [],
   "source": [
    "def plot_tf_vs_pt(dataset):\n",
    "    fig,ax = plt.subplots(1,figsize=(12,8),dpi=80)\n",
    "    balsam = dataset['timestamp'].groupby(dataset[dataset['balsam'] == 1]['timestamp'].dt.day).count().rename('balsam')\n",
    "    tf = dataset['timestamp'].groupby(dataset[dataset['tensorflow'] == 1]['timestamp'].dt.day).count().rename('tensorflow')\n",
    "    torch = dataset['timestamp'].groupby(dataset[dataset['torch'] == 1]['timestamp'].dt.day).count().rename('torch')\n",
    "    data = pd.concat([balsam,tf,torch],axis=1)\n",
    "    data.plot(kind='bar',ax=ax,color={'balsam':'green','tensorflow':'orange','torch':'red'})\n",
    "    ax.set_xlabel('day')\n",
    "    ax.set_yscale('log')\n",
    "    ax.legend()\n",
    "#     ax.set_xlim(1,31)\n",
    "#     days = [ x for x in range(1,32) ]\n",
    "#     ax.set_xticks(days)\n",
    "#     ax.set_xticklabels(days)\n",
    "    min_date = dataset['timestamp'].min()\n",
    "    max_date = dataset['timestamp'].max()\n",
    "    ax.set_title('Covers ' + str(min_date.date()) + ' to ' + str(max_date.date()))\n",
    "\n",
    "def plot_source(dataset):\n",
    "    fig,ax = plt.subplots(1,figsize=(12,8),dpi=80)\n",
    "    dataset.groupby(dataset['source_id'])['timestamp'].count().plot(kind='bar',ax=ax,logy=True)\n",
    "    ax.set_xlabel('python source module ID')\n",
    "    min_date = dataset['timestamp'].min()\n",
    "    max_date = dataset['timestamp'].max()\n",
    "    ax.set_title('Covers ' + str(min_date.date()) + ' to ' + str(max_date.date()))\n",
    "\n",
    "def plot_machine(dataset):\n",
    "    fig,ax = plt.subplots(1,figsize=(12,8),dpi=80)\n",
    "    knl = dataset['timestamp'].groupby(dataset[dataset['thetaknl'] == 1]['timestamp'].dt.day).count().rename('ThetaKNL')\n",
    "    gpu = dataset['timestamp'].groupby(dataset[dataset['thetagpu'] == 1]['timestamp'].dt.day).count().rename('ThetaGPU')\n",
    "    data = pd.concat([knl,gpu],axis=1)\n",
    "    data.plot(kind='bar',ax=ax,color={'ThetaKNL':'blue','ThetaGPU':'green'})\n",
    "    ax.set_xlabel('day')\n",
    "    ax.set_yscale('log')\n",
    "    ax.legend()\n",
    "    min_date = dataset['timestamp'].min()\n",
    "    max_date = dataset['timestamp'].max()\n",
    "    ax.set_title('Covers ' + str(min_date.date()) + ' to ' + str(max_date.date()))\n",
    "\n",
    "    "
   ]
  },
  {
   "cell_type": "code",
   "execution_count": 328,
   "metadata": {},
   "outputs": [
    {
     "data": {
      "image/png": "[encoded data removed]",
      "text/plain": [
       "<Figure size 960x640 with 1 Axes>"
      ]
     },
     "metadata": {
      "needs_background": "light"
     },
     "output_type": "display_data"
    }
   ],
   "source": [
    "plot_tf_vs_pt(ds)"
   ]
  },
  {
   "cell_type": "code",
   "execution_count": 329,
   "metadata": {},
   "outputs": [
    {
     "data": {
      "image/png": "[encoded data removed]",
      "text/plain": [
       "<Figure size 960x640 with 1 Axes>"
      ]
     },
     "metadata": {
      "needs_background": "light"
     },
     "output_type": "display_data"
    }
   ],
   "source": [
    "plot_source(ds)"
   ]
  },
  {
   "cell_type": "code",
   "execution_count": 330,
   "metadata": {},
   "outputs": [
    {
     "data": {
      "image/png": "[encoded data removed]",
      "text/plain": [
       "<Figure size 960x640 with 1 Axes>"
      ]
     },
     "metadata": {
      "needs_background": "light"
     },
     "output_type": "display_data"
    }
   ],
   "source": [
    "plot_machine(ds)"
   ]
  },
  {
   "cell_type": "code",
   "execution_count": null,
   "metadata": {},
   "outputs": [],
   "source": []
  }
 ],
 "metadata": {
  "kernelspec": {
   "display_name": "Python 3",
   "language": "python",
   "name": "python3"
  },
  "language_info": {
   "codemirror_mode": {
    "name": "ipython",
    "version": 3
   },
   "file_extension": ".py",
   "mimetype": "text/x-python",
   "name": "python",
   "nbconvert_exporter": "python",
   "pygments_lexer": "ipython3",
   "version": "3.7.4"
  }
 },
 "nbformat": 4,
 "nbformat_minor": 4
}
