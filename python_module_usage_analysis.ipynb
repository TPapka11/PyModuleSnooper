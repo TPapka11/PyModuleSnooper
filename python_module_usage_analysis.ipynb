{
 "cells": [
  {
   "cell_type": "code",
   "execution_count": 1,
   "metadata": {},
   "outputs": [],
   "source": [
    "import json\n",
    "from pathlib import Path\n",
    "import dateutil.parser\n",
    "from collections import defaultdict\n",
    "import pwd\n",
    "# !PYTHONUSERBASE=\"$(pwd)/.ipython\" pip install --user git+https://github.com/tqdm/tqdm.git@master#egg=tqdm\n",
    "from tqdm import tqdm\n",
    "from concurrent.futures import ProcessPoolExecutor\n",
    "import pandas as pd\n",
    "\n",
    "def load_entry(path):\n",
    "    user_id = Path(path).stat().st_uid\n",
    "    try:\n",
    "        raw = json.load(open(path))\n",
    "    except:\n",
    "        return None\n",
    "    result = {}\n",
    "    result[\"timestamp\"] = dateutil.parser.parse(raw[\"timestamp\"])\n",
    "    result[\"environment\"] = Path(raw[\"sys.executable\"]).parent.parent.as_posix()\n",
    "    result[\"hostname\"] = raw[\"hostname\"]\n",
    "    result[\"modules\"] = extract_modules(raw[\"modules\"], raw.get(\"versions\", {}))\n",
    "    result[\"user_id\"] = user_id\n",
    "    return result\n",
    "\n",
    "def extract_modules(module_paths, module_versions):\n",
    "    seen_modules = set()\n",
    "    \n",
    "    for name, fs_path in module_paths.items():\n",
    "        submodules = name.split('.')\n",
    "        if name != submodules[0]:\n",
    "            continue\n",
    "        version = module_versions.get(name)\n",
    "        key = (submodules[0], str(version))\n",
    "        if key in seen_modules:\n",
    "            continue\n",
    "        if fs_path and \"site-packages\" not in fs_path:\n",
    "            continue\n",
    "        if name == \"sitecustomize\":\n",
    "            continue\n",
    "        seen_modules.add(key)\n",
    "    return seen_modules"
   ]
  },
  {
   "cell_type": "code",
   "execution_count": 3,
   "metadata": {},
   "outputs": [],
   "source": [
    "def timestamp_collision(ts, ts_list):\n",
    "    return any(abs((ts - t0).total_seconds()) < 10.0 for t0 in ts_list)\n",
    "\n",
    "def list_to_dataframe(logs_list):\n",
    "    data = []\n",
    "    user_times = defaultdict(list)\n",
    "    for log in logs_list:\n",
    "        if log:\n",
    "            user_id, ts = log[\"user_id\"], log[\"timestamp\"]\n",
    "            if timestamp_collision(ts, user_times[user_id]):\n",
    "                continue\n",
    "            user_times[user_id].append(ts)\n",
    "            for (module, version) in log.pop(\"modules\"):\n",
    "                data.append({\"module\": module, \"version\": version, **log})\n",
    "    return pd.DataFrame(data)\n",
    "\n",
    "def crawl_logs(top_dir, *patterns):\n",
    "    top_dir = Path(top_dir)\n",
    "    files_list, results = [], []\n",
    "    for pattern in patterns:\n",
    "        files_list.extend(top_dir.glob(pattern))\n",
    "    n_files = len(files_list)\n",
    "    print(f\"Processing {n_files} files...\")\n",
    "    with ProcessPoolExecutor(max_workers=8) as pool:\n",
    "        for data in tqdm(pool.map(load_entry, files_list, chunksize=100)): \n",
    "            results.append(data)\n",
    "    return list_to_dataframe(results)"
   ]
  },
  {
   "cell_type": "code",
   "execution_count": 4,
   "metadata": {},
   "outputs": [
    {
     "name": "stdout",
     "output_type": "stream",
     "text": [
      "Processing 0 files...\n"
     ]
    },
    {
     "name": "stderr",
     "output_type": "stream",
     "text": [
      "0it [00:00, ?it/s]\n"
     ]
    }
   ],
   "source": [
    "top = '/lus/theta-fs0/logs/pythonlogging/module_usage'\n",
    "df = crawl_logs(top, \"2020/12/04/*\")"
   ]
  },
  {
   "cell_type": "code",
   "execution_count": 5,
   "metadata": {},
   "outputs": [
    {
     "data": {
      "text/html": [
       "<div>\n",
       "<style scoped>\n",
       "    .dataframe tbody tr th:only-of-type {\n",
       "        vertical-align: middle;\n",
       "    }\n",
       "\n",
       "    .dataframe tbody tr th {\n",
       "        vertical-align: top;\n",
       "    }\n",
       "\n",
       "    .dataframe thead th {\n",
       "        text-align: right;\n",
       "    }\n",
       "</style>\n",
       "<table border=\"1\" class=\"dataframe\">\n",
       "  <thead>\n",
       "    <tr style=\"text-align: right;\">\n",
       "      <th></th>\n",
       "    </tr>\n",
       "  </thead>\n",
       "  <tbody>\n",
       "  </tbody>\n",
       "</table>\n",
       "</div>"
      ],
      "text/plain": [
       "Empty DataFrame\n",
       "Columns: []\n",
       "Index: []"
      ]
     },
     "execution_count": 5,
     "metadata": {},
     "output_type": "execute_result"
    }
   ],
   "source": [
    "df"
   ]
  }
 ],
 "metadata": {
  "kernelspec": {
   "display_name": "base",
   "language": "python",
   "name": "python3"
  },
  "language_info": {
   "codemirror_mode": {
    "name": "ipython",
    "version": 3
   },
   "file_extension": ".py",
   "mimetype": "text/x-python",
   "name": "python",
   "nbconvert_exporter": "python",
   "pygments_lexer": "ipython3",
   "version": "3.12.4"
  }
 },
 "nbformat": 4,
 "nbformat_minor": 4
}
