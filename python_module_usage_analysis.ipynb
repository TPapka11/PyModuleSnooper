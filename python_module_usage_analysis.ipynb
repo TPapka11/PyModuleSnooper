{
 "cells": [
  {
   "cell_type": "code",
   "execution_count": 23,
   "metadata": {},
   "outputs": [
    {
     "name": "stdout",
     "output_type": "stream",
     "text": [
      "Collecting tqdm\n",
      "  Cloning https://github.com/tqdm/tqdm.git (to revision master) to /tmp/pip-install-r5sb8h94/tqdm_4e45b356a157484fb0869c447c93a010\n",
      "  Installing build dependencies ... \u001b[?25ldone\n",
      "\u001b[?25h  Getting requirements to build wheel ... \u001b[?25ldone\n",
      "\u001b[?25h    Preparing wheel metadata ... \u001b[?25ldone\n",
      "\u001b[?25h"
     ]
    }
   ],
   "source": [
    "import json\n",
    "from pathlib import Path\n",
    "import dateutil.parser\n",
    "import pwd\n",
    "!PYTHONUSERBASE=\"$(pwd)/.ipython\" pip install --user git+https://github.com/tqdm/tqdm.git@master#egg=tqdm\n",
    "from tqdm import tqdm\n",
    "from concurrent.futures import ProcessPoolExecutor\n",
    "import pandas as pd\n",
    "\n",
    "def load_entry(path):\n",
    "    user_id = Path(path).stat().st_uid\n",
    "    username = pwd.getpwuid(user_id).pw_name\n",
    "    try:\n",
    "        raw = json.load(open(path))\n",
    "    except:\n",
    "        return None\n",
    "    result = {}\n",
    "    result[\"timestamp\"] = dateutil.parser.parse(raw[\"timestamp\"])\n",
    "    result[\"environment\"] = Path(raw[\"sys.executable\"]).parent.parent.as_posix()\n",
    "    result[\"hostname\"] = raw[\"hostname\"]\n",
    "    result[\"modules\"] = extract_modules(raw[\"modules\"])\n",
    "    result[\"username\"] = username\n",
    "    return result\n",
    "\n",
    "def extract_modules(raw_dict):\n",
    "    seen_names = set()\n",
    "    \n",
    "    for name, fs_path in raw_dict.items():\n",
    "        submodules = name.split('.')\n",
    "        if submodules[0] in seen_names:\n",
    "            continue\n",
    "        if fs_path and \"site-packages\" not in fs_path:\n",
    "            continue\n",
    "        if name == \"sitecustomize\":\n",
    "            continue\n",
    "        seen_names.add(submodules[0])\n",
    "    return seen_names"
   ]
  },
  {
   "cell_type": "code",
   "execution_count": 24,
   "metadata": {},
   "outputs": [],
   "source": [
    "def list_to_dataframe(logs_list):\n",
    "    data = []\n",
    "    for log in logs_list:\n",
    "        if log:\n",
    "            modules = log\n",
    "            for module in log.pop(\"modules\"):\n",
    "                data.append({\"module\": module, **log})\n",
    "    return pd.DataFrame(data)\n",
    "\n",
    "def crawl_logs(top_dir, *patterns):\n",
    "    top_dir = Path(top_dir)\n",
    "    files_list, results = [], []\n",
    "    for pattern in patterns:\n",
    "        files_list.extend(top_dir.glob(pattern))\n",
    "    n_files = len(files_list)\n",
    "    print(f\"Processing {n_files} files...\")\n",
    "    with ProcessPoolExecutor(max_workers=8) as pool:\n",
    "        for data in tqdm(pool.map(load_entry, files_list, chunksize=100)): \n",
    "            results.append(data)\n",
    "    return list_to_dataframe(results)"
   ]
  },
  {
   "cell_type": "code",
   "execution_count": 25,
   "metadata": {},
   "outputs": [
    {
     "name": "stdout",
     "output_type": "stream",
     "text": [
      "Processing 17664 files...\n"
     ]
    },
    {
     "name": "stderr",
     "output_type": "stream",
     "text": [
      "17664it [00:03, 5706.14it/s]\n"
     ]
    }
   ],
   "source": [
    "top = '/lus/theta-fs0/logs/pythonlogging/module_usage'\n",
    "df = crawl_logs(top, \"2020/12/04/*\")"
   ]
  },
  {
   "cell_type": "code",
   "execution_count": 26,
   "metadata": {
    "scrolled": true
   },
   "outputs": [
    {
     "data": {
      "text/html": [
       "<div>\n",
       "<style scoped>\n",
       "    .dataframe tbody tr th:only-of-type {\n",
       "        vertical-align: middle;\n",
       "    }\n",
       "\n",
       "    .dataframe tbody tr th {\n",
       "        vertical-align: top;\n",
       "    }\n",
       "\n",
       "    .dataframe thead th {\n",
       "        text-align: right;\n",
       "    }\n",
       "</style>\n",
       "<table border=\"1\" class=\"dataframe\">\n",
       "  <thead>\n",
       "    <tr style=\"text-align: right;\">\n",
       "      <th></th>\n",
       "      <th>module</th>\n",
       "      <th>timestamp</th>\n",
       "      <th>environment</th>\n",
       "      <th>hostname</th>\n",
       "      <th>username</th>\n",
       "    </tr>\n",
       "  </thead>\n",
       "  <tbody>\n",
       "    <tr>\n",
       "      <th>0</th>\n",
       "      <td>jsonschema</td>\n",
       "      <td>2020-12-04 03:00:33.551531</td>\n",
       "      <td>/soft/datascience/conda/miniconda3/latest</td>\n",
       "      <td>nid02568</td>\n",
       "      <td>berres</td>\n",
       "    </tr>\n",
       "    <tr>\n",
       "      <th>1</th>\n",
       "      <td>six</td>\n",
       "      <td>2020-12-04 03:00:33.551531</td>\n",
       "      <td>/soft/datascience/conda/miniconda3/latest</td>\n",
       "      <td>nid02568</td>\n",
       "      <td>berres</td>\n",
       "    </tr>\n",
       "    <tr>\n",
       "      <th>2</th>\n",
       "      <td>importlib_metadata</td>\n",
       "      <td>2020-12-04 03:00:33.551531</td>\n",
       "      <td>/soft/datascience/conda/miniconda3/latest</td>\n",
       "      <td>nid02568</td>\n",
       "      <td>berres</td>\n",
       "    </tr>\n",
       "    <tr>\n",
       "      <th>3</th>\n",
       "      <td>pvectorc</td>\n",
       "      <td>2020-12-04 03:00:33.551531</td>\n",
       "      <td>/soft/datascience/conda/miniconda3/latest</td>\n",
       "      <td>nid02568</td>\n",
       "      <td>berres</td>\n",
       "    </tr>\n",
       "    <tr>\n",
       "      <th>4</th>\n",
       "      <td>pandas</td>\n",
       "      <td>2020-12-04 03:00:33.551531</td>\n",
       "      <td>/soft/datascience/conda/miniconda3/latest</td>\n",
       "      <td>nid02568</td>\n",
       "      <td>berres</td>\n",
       "    </tr>\n",
       "  </tbody>\n",
       "</table>\n",
       "</div>"
      ],
      "text/plain": [
       "               module                  timestamp  \\\n",
       "0          jsonschema 2020-12-04 03:00:33.551531   \n",
       "1                 six 2020-12-04 03:00:33.551531   \n",
       "2  importlib_metadata 2020-12-04 03:00:33.551531   \n",
       "3            pvectorc 2020-12-04 03:00:33.551531   \n",
       "4              pandas 2020-12-04 03:00:33.551531   \n",
       "\n",
       "                                 environment  hostname username  \n",
       "0  /soft/datascience/conda/miniconda3/latest  nid02568   berres  \n",
       "1  /soft/datascience/conda/miniconda3/latest  nid02568   berres  \n",
       "2  /soft/datascience/conda/miniconda3/latest  nid02568   berres  \n",
       "3  /soft/datascience/conda/miniconda3/latest  nid02568   berres  \n",
       "4  /soft/datascience/conda/miniconda3/latest  nid02568   berres  "
      ]
     },
     "execution_count": 26,
     "metadata": {},
     "output_type": "execute_result"
    }
   ],
   "source": [
    "df.head()"
   ]
  },
  {
   "cell_type": "code",
   "execution_count": 27,
   "metadata": {},
   "outputs": [
    {
     "data": {
      "text/plain": [
       "module\n",
       "google                17651\n",
       "mpl_toolkits          17579\n",
       "six                   17023\n",
       "numpy                 16886\n",
       "dateutil              16834\n",
       "pytz                  16829\n",
       "pandas                16819\n",
       "idna                  16810\n",
       "mkl                   16755\n",
       "jsonschema            16636\n",
       "zipp                  16636\n",
       "importlib_metadata    16636\n",
       "pvectorc              16636\n",
       "pyrsistent            16636\n",
       "attr                  16636\n",
       "radical                 445\n",
       "colorama                391\n",
       "msgpack                 355\n",
       "zmq                     334\n",
       "netifaces               333\n",
       "dtype: int64"
      ]
     },
     "execution_count": 27,
     "metadata": {},
     "output_type": "execute_result"
    }
   ],
   "source": [
    "df.value_counts(\"module\").head(20)"
   ]
  }
 ],
 "metadata": {
  "kernelspec": {
   "display_name": "Python 3",
   "language": "python",
   "name": "python3"
  },
  "language_info": {
   "codemirror_mode": {
    "name": "ipython",
    "version": 3
   },
   "file_extension": ".py",
   "mimetype": "text/x-python",
   "name": "python",
   "nbconvert_exporter": "python",
   "pygments_lexer": "ipython3",
   "version": "3.7.4"
  }
 },
 "nbformat": 4,
 "nbformat_minor": 4
}
